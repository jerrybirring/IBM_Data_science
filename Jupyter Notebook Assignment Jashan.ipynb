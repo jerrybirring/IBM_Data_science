{
 "cells": [
  {
   "cell_type": "markdown",
   "metadata": {},
   "source": [
    "<center>\n",
    "    <img src=\"https://cf-courses-data.s3.us.cloud-object-storage.appdomain.cloud/IBMDeveloperSkillsNetwork-DS0105EN-SkillsNetwork/labs/Module2/images/SN_web_lightmode.png\" width=\"300\" alt=\"cognitiveclass.ai logo\">\n",
    "</center>\n"
   ]
  },
  {
   "cell_type": "markdown",
   "metadata": {},
   "source": [
    "#### Add your code below following the instructions given in the course\n"
   ]
  },
  {
   "cell_type": "markdown",
   "metadata": {},
   "source": [
    "This is my Jupyter Notebook, by Jashan Singh."
   ]
  },
  {
   "cell_type": "markdown",
   "metadata": {},
   "source": [
    "Introduction: "
   ]
  },
  {
   "cell_type": "markdown",
   "metadata": {},
   "source": [
    "Here is a list of Data Science Languages:\n",
    "    1. Python\n",
    "    2. SQL\n",
    "    3. R\n",
    "    4. Java\n",
    "    5. C++"
   ]
  },
  {
   "cell_type": "markdown",
   "metadata": {},
   "source": [
    "Here are some Data Science Libraries:\n",
    "    1. Pandas\n",
    "    2. Matplotlib\n",
    "    3. Keras\n",
    "    4. Tensorflow\n",
    "    5. ggplot\n",
    "    6. Numpy\n",
    "    "
   ]
  },
  {
   "cell_type": "markdown",
   "metadata": {},
   "source": [
    "Here are some data science tools:\n",
    "    1. Jupyter Notebooks\n",
    "    2. MongoDB\n",
    "    3. Visual Studio\n",
    "    4. IBM Watson\n",
    "    5. Google Colab\n",
    "    6. Tensorflow\n",
    "    7. Keras"
   ]
  },
  {
   "cell_type": "markdown",
   "metadata": {},
   "source": [
    "Examples of Arithmetic Expression:"
   ]
  },
  {
   "cell_type": "markdown",
   "metadata": {
    "tags": []
   },
   "source": [
    "1 Addition: 5+5.\n",
    "2.Substration: 6-2.\n",
    "3.Multiplication: 4*3.\n",
    "4.Division: 9/3.\n",
    "5.Modulo: 9//2.\n",
    "6.Exponential multiplication: 4**4."
   ]
  },
  {
   "cell_type": "code",
   "execution_count": null,
   "metadata": {
    "tags": []
   },
   "outputs": [],
   "source": [
    "#Example of Addition:\n",
    "\n",
    "5+5"
   ]
  },
  {
   "cell_type": "code",
   "execution_count": null,
   "metadata": {
    "tags": []
   },
   "outputs": [],
   "source": [
    "#Example of Multiply:\n",
    "4*2"
   ]
  },
  {
   "cell_type": "code",
   "execution_count": null,
   "metadata": {
    "tags": []
   },
   "outputs": [],
   "source": [
    "# Multiply and Add:\n",
    "\n",
    "(4*2)+5"
   ]
  },
  {
   "cell_type": "code",
   "execution_count": null,
   "metadata": {
    "tags": []
   },
   "outputs": [],
   "source": [
    "#Code to convert minutes to hours:\n",
    "\n",
    "135//60"
   ]
  },
  {
   "cell_type": "markdown",
   "metadata": {},
   "source": [
    "List Objectives ?"
   ]
  },
  {
   "cell_type": "markdown",
   "metadata": {},
   "source": [
    "Name of Author: Jashan Singh"
   ]
  }
 ],
 "metadata": {
  "kernelspec": {
   "display_name": "Python",
   "language": "python",
   "name": "conda-env-python-py"
  },
  "language_info": {
   "codemirror_mode": {
    "name": "ipython",
    "version": 3
   },
   "file_extension": ".py",
   "mimetype": "text/x-python",
   "name": "python",
   "nbconvert_exporter": "python",
   "pygments_lexer": "ipython3",
   "version": "3.7.12"
  }
 },
 "nbformat": 4,
 "nbformat_minor": 4
}
